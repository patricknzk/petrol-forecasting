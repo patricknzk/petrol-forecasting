{
 "cells": [
  {
   "cell_type": "code",
   "execution_count": 36,
   "id": "2eae038c-b31d-4b44-b72a-9dbd96544163",
   "metadata": {},
   "outputs": [],
   "source": [
    "import pandas as pd\n",
    "from selenium import webdriver\n",
    "from selenium.webdriver.common.by import By\n",
    "from selenium.webdriver.common.keys import Keys\n",
    "from datetime import datetime\n",
    "import time"
   ]
  },
  {
   "cell_type": "code",
   "execution_count": 66,
   "id": "22d0a673-c32c-4953-95a4-36afa236c1c2",
   "metadata": {},
   "outputs": [
    {
     "name": "stdout",
     "output_type": "stream",
     "text": [
      "[{'timestamp': '2024-11-04 00:13:52', 'price 91': '196.9', 'price 95': '209.9', 'price 98': '217.9'}]\n"
     ]
    }
   ],
   "source": [
    "newdf = []\n",
    "\n",
    "driver = webdriver.Chrome()  # Ensure chromedriver is in PATH\n",
    "driver.get(\"https://petrolspy.com.au/map/station/5212f92f0364bb212f028d66\")\n",
    "\n",
    "time.sleep(3)  # Wait for data to load; adjust based on page load times\n",
    "data_91 = driver.find_element(By.CSS_SELECTOR, \"#infobox > div.infoContainer > div.prices > div:nth-child(1) > b.selected-price\")\n",
    "data_95 = driver.find_element(By.CSS_SELECTOR, \"#infobox > div.infoContainer > div.prices > div:nth-child(2) > span:nth-child(2)\")\n",
    "data_98 = driver.find_element(By.CSS_SELECTOR, \"#infobox > div.infoContainer > div.prices > div:nth-child(2) > span:nth-child(3)\")\n",
    "current_time = datetime.now().strftime(\"%Y-%m-%d %H:%M:%S\")\n",
    "\n",
    "# Add to data\n",
    "newdf.append({\n",
    "    \"timestamp\": current_time,\n",
    "    \"price 91\": data_91.text,\n",
    "    \"price 95\": data_95.text,\n",
    "    \"price 98\": data_98.text,\n",
    "})\n",
    "driver.quit()"
   ]
  },
  {
   "cell_type": "code",
   "execution_count": 65,
   "id": "9a693808-fc4e-450e-9c34-42cc5b5b789e",
   "metadata": {},
   "outputs": [],
   "source": [
    "# Clean the data\n",
    "df = pd.DataFrame(dataframe_91)\n",
    "df['price 91'] = df[\"price 91\"].str.replace(\"c per litre\", \"\", regex=False).astype(float)\n",
    "df['price 95'] = df[\"price 95\"].str.replace(\"c per litre\", \"\", regex=False).astype(float)\n",
    "df['price 98'] = df[\"price 98\"].str.replace(\"c per litre\", \"\", regex=False).astype(float)\n",
    "\n",
    "# Get up to date csv file\n",
    "current_data = pd.read_csv('eleven-7_endeavourhills_prices.csv')\n",
    "\n",
    "# Update the file\n",
    "updated_data = pd.concat([current_data, df], ignore_index=True)\n",
    "\n",
    "# Update csv file\n",
    "updated_data.to_csv('eleven-7_endeavourhills_prices.csv')"
   ]
  },
  {
   "cell_type": "code",
   "execution_count": null,
   "id": "1ed4f9b1-960b-4399-9cc6-19168e337c2c",
   "metadata": {},
   "outputs": [],
   "source": []
  }
 ],
 "metadata": {
  "kernelspec": {
   "display_name": "Python 3 (ipykernel)",
   "language": "python",
   "name": "python3"
  },
  "language_info": {
   "codemirror_mode": {
    "name": "ipython",
    "version": 3
   },
   "file_extension": ".py",
   "mimetype": "text/x-python",
   "name": "python",
   "nbconvert_exporter": "python",
   "pygments_lexer": "ipython3",
   "version": "3.12.4"
  }
 },
 "nbformat": 4,
 "nbformat_minor": 5
}
